{
 "cells": [
  {
   "cell_type": "markdown",
   "id": "237bb28a-58a4-4629-a934-50597ddc7e76",
   "metadata": {},
   "source": []
  },
  {
   "cell_type": "markdown",
   "id": "2fffa13c",
   "metadata": {},
   "source": [
    "# 2022/23 NBA Drafts Team Impact"
   ]
  },
  {
   "cell_type": "markdown",
   "id": "d9ca74a0",
   "metadata": {},
   "source": [
    "Data on Teams:\n",
    "- https://www.nba.com/draft/2022/team-profiles\n",
    "- https://www.nba.com/stats/teams and https://www.nba.com/stats/teams/traditional includes\n",
    "    - Season Leaders\n",
    "    - Advanced\n",
    "    - Miscellaneous\n",
    "    - Player Tracking Speed\n",
    "    - Hustle\n",
    "    - Scoring\n",
    "    - Shooting by Zone\n",
    "    - Bench\n",
    "    - Stats in Wins\n",
    "    - Defense\n",
    "-https://www.basketball-reference.com/teams/\n",
    "\n",
    "Data on Players:\n",
    "- https://www.nba.com/stats/players and https://www.nba.com/stats/leaders includes:\n",
    "    - Season Leaders\n",
    "    - Advanced\n",
    "    - Miscellaneous\n",
    "    - Scoring\n",
    "    - Shooting By Zone\n",
    "    - Bio Stats\n",
    "    - Centers\n",
    "    - Forwards\n",
    "    - Guards\n",
    "    - 1st Overall Picks\n",
    "    - Rookies\n",
    "    - Active Career Leaders\n",
    "- https://www.nba.com/stats/draft/combine\n",
    " - Standing reach\n",
    " - Height w/o shoes\n",
    " - Wingspan\n",
    " - Standing vertical leap\n",
    " - Max vertical leap\n",
    " - Shuttle run\n",
    " - Lane agility\n",
    " - Three quarter sprint\n",
    "-https://www.basketball-reference.com/players/\n"
   ]
  },
  {
   "cell_type": "markdown",
   "id": "fd8b71ef",
   "metadata": {},
   "source": [
    "## Program Objectives\n",
    "\n",
    "1. Find 2021/22 Team Statistics\n",
    "2. Find 2022's new draft picks with their corresponding characteristics and new teams\n",
    "3. Prediction the next season's results based on the above\n",
    "4. Compare results with 2022/23 Team Statistics\n",
    "5. Answer the Focus Question: Is the NBA competatively balanced? What is the impact of the best players drafted into the worst performing teams?"
   ]
  },
  {
   "cell_type": "markdown",
   "id": "be77b788-e6ff-44c9-8f8e-f05874955f05",
   "metadata": {},
   "source": [
    "## 1. 21/22 Team Stats\n",
    "## 2. 2022 Draft Picks"
   ]
  },
  {
   "cell_type": "markdown",
   "id": "989be880-703e-4979-8249-d19e49c4ceae",
   "metadata": {},
   "source": [
    "Lets try pandas to read the table on nba drafted players."
   ]
  },
  {
   "cell_type": "code",
   "execution_count": 1,
   "id": "150575d3-357d-426f-acdf-d31ef1ab7296",
   "metadata": {},
   "outputs": [
    {
     "name": "stdout",
     "output_type": "stream",
     "text": [
      "Collecting html5lib\n",
      "  Downloading html5lib-1.1-py2.py3-none-any.whl (112 kB)\n",
      "                                              0.0/112.2 kB ? eta -:--:--\n",
      "     --------------------------------        92.2/112.2 kB 2.6 MB/s eta 0:00:01\n",
      "     -------------------------------------- 112.2/112.2 kB 2.2 MB/s eta 0:00:00\n",
      "Requirement already satisfied: six>=1.9 in c:\\users\\thops\\appdata\\roaming\\python\\python311\\site-packages (from html5lib) (1.16.0)\n",
      "Collecting webencodings (from html5lib)\n",
      "  Downloading webencodings-0.5.1-py2.py3-none-any.whl (11 kB)\n",
      "Installing collected packages: webencodings, html5lib\n",
      "Successfully installed html5lib-1.1 webencodings-0.5.1\n",
      "Note: you may need to restart the kernel to use updated packages.\n"
     ]
    },
    {
     "name": "stderr",
     "output_type": "stream",
     "text": [
      "\n",
      "[notice] A new release of pip is available: 23.1.2 -> 23.2.1\n",
      "[notice] To update, run: python.exe -m pip install --upgrade pip\n"
     ]
    }
   ],
   "source": [
    "pip install html5lib"
   ]
  },
  {
   "cell_type": "markdown",
   "id": "544d7336-9fec-4853-98e3-6d34db33a56c",
   "metadata": {},
   "source": [
    "### Webscraping of Player Data\n",
    "\n",
    "Here data on the draft player name's, their new teams, affliations and overall pickings rank are given."
   ]
  },
  {
   "cell_type": "code",
   "execution_count": 3,
   "id": "952bc761",
   "metadata": {},
   "outputs": [
    {
     "name": "stdout",
     "output_type": "stream",
     "text": [
      "Collecting pandas\n",
      "  Downloading pandas-2.1.0-cp311-cp311-win_amd64.whl (11.0 MB)\n",
      "                                              0.0/11.0 MB ? eta -:--:--\n",
      "                                              0.1/11.0 MB 2.6 MB/s eta 0:00:05\n",
      "                                              0.2/11.0 MB 2.5 MB/s eta 0:00:05\n",
      "                                              0.3/11.0 MB 2.3 MB/s eta 0:00:05\n",
      "                                              0.3/11.0 MB 2.3 MB/s eta 0:00:05\n",
      "                                              0.3/11.0 MB 2.3 MB/s eta 0:00:05\n",
      "                                              0.3/11.0 MB 2.3 MB/s eta 0:00:05\n",
      "                                              0.3/11.0 MB 2.3 MB/s eta 0:00:05\n",
      "                                              0.3/11.0 MB 2.3 MB/s eta 0:00:05\n",
      "     -                                       0.3/11.0 MB 873.8 kB/s eta 0:00:13\n",
      "     -                                       0.3/11.0 MB 873.8 kB/s eta 0:00:13\n",
      "     -                                       0.3/11.0 MB 746.0 kB/s eta 0:00:15\n",
      "     -                                       0.3/11.0 MB 746.0 kB/s eta 0:00:15\n",
      "     -                                       0.4/11.0 MB 711.4 kB/s eta 0:00:15\n",
      "     -                                       0.5/11.0 MB 704.5 kB/s eta 0:00:16\n",
      "     -                                       0.5/11.0 MB 718.0 kB/s eta 0:00:15\n",
      "     -                                       0.5/11.0 MB 718.0 kB/s eta 0:00:15\n",
      "     -                                       0.5/11.0 MB 718.0 kB/s eta 0:00:15\n",
      "     -                                       0.6/11.0 MB 681.0 kB/s eta 0:00:16\n",
      "     -                                       0.6/11.0 MB 681.0 kB/s eta 0:00:16\n",
      "     --                                      0.7/11.0 MB 757.3 kB/s eta 0:00:14\n",
      "     --                                      0.8/11.0 MB 838.1 kB/s eta 0:00:13\n",
      "     ---                                     0.9/11.0 MB 931.8 kB/s eta 0:00:11\n",
      "     ---                                      1.0/11.0 MB 1.0 MB/s eta 0:00:10\n",
      "     ----                                     1.2/11.0 MB 1.1 MB/s eta 0:00:10\n",
      "     ----                                     1.3/11.0 MB 1.2 MB/s eta 0:00:09\n",
      "     -----                                    1.4/11.0 MB 1.2 MB/s eta 0:00:09\n",
      "     -----                                    1.5/11.0 MB 1.2 MB/s eta 0:00:08\n",
      "     -----                                    1.6/11.0 MB 1.2 MB/s eta 0:00:08\n",
      "     ------                                   1.7/11.0 MB 1.3 MB/s eta 0:00:08\n",
      "     ------                                   1.8/11.0 MB 1.4 MB/s eta 0:00:07\n",
      "     -------                                  2.0/11.0 MB 1.4 MB/s eta 0:00:07\n",
      "     -------                                  2.1/11.0 MB 1.4 MB/s eta 0:00:07\n",
      "     -------                                  2.2/11.0 MB 1.5 MB/s eta 0:00:07\n",
      "     --------                                 2.3/11.0 MB 1.5 MB/s eta 0:00:06\n",
      "     --------                                 2.4/11.0 MB 1.5 MB/s eta 0:00:06\n",
      "     ---------                                2.6/11.0 MB 1.6 MB/s eta 0:00:06\n",
      "     ---------                                2.7/11.0 MB 1.6 MB/s eta 0:00:06\n",
      "     ----------                               2.8/11.0 MB 1.6 MB/s eta 0:00:06\n",
      "     ----------                               2.9/11.0 MB 1.7 MB/s eta 0:00:05\n",
      "     -----------                              3.0/11.0 MB 1.7 MB/s eta 0:00:05\n",
      "     -----------                              3.2/11.0 MB 1.7 MB/s eta 0:00:05\n",
      "     -----------                              3.3/11.0 MB 1.7 MB/s eta 0:00:05\n",
      "     ------------                             3.4/11.0 MB 1.7 MB/s eta 0:00:05\n",
      "     ------------                             3.5/11.0 MB 1.8 MB/s eta 0:00:05\n",
      "     -------------                            3.6/11.0 MB 1.8 MB/s eta 0:00:05\n",
      "     -------------                            3.7/11.0 MB 1.8 MB/s eta 0:00:05\n",
      "     -------------                            3.8/11.0 MB 1.8 MB/s eta 0:00:04\n",
      "     --------------                           4.0/11.0 MB 1.8 MB/s eta 0:00:04\n",
      "     --------------                           4.1/11.0 MB 1.8 MB/s eta 0:00:04\n",
      "     ---------------                          4.2/11.0 MB 1.9 MB/s eta 0:00:04\n",
      "     ---------------                          4.3/11.0 MB 1.9 MB/s eta 0:00:04\n",
      "     ---------------                          4.3/11.0 MB 1.9 MB/s eta 0:00:04\n",
      "     ---------------                          4.3/11.0 MB 1.9 MB/s eta 0:00:04\n",
      "     ---------------                          4.3/11.0 MB 1.9 MB/s eta 0:00:04\n",
      "     ---------------                          4.3/11.0 MB 1.9 MB/s eta 0:00:04\n",
      "     ---------------                          4.3/11.0 MB 1.7 MB/s eta 0:00:04\n",
      "     ---------------                          4.4/11.0 MB 1.7 MB/s eta 0:00:04\n",
      "     ----------------                         4.5/11.0 MB 1.7 MB/s eta 0:00:04\n",
      "     ----------------                         4.6/11.0 MB 1.7 MB/s eta 0:00:04\n",
      "     ----------------                         4.7/11.0 MB 1.7 MB/s eta 0:00:04\n",
      "     -----------------                        4.8/11.0 MB 1.7 MB/s eta 0:00:04\n",
      "     -----------------                        4.9/11.0 MB 1.7 MB/s eta 0:00:04\n",
      "     -----------------                        4.9/11.0 MB 1.7 MB/s eta 0:00:04\n",
      "     ------------------                       5.1/11.0 MB 1.7 MB/s eta 0:00:04\n",
      "     ------------------                       5.2/11.0 MB 1.7 MB/s eta 0:00:04\n",
      "     ------------------                       5.2/11.0 MB 1.8 MB/s eta 0:00:04\n",
      "     -------------------                      5.3/11.0 MB 1.7 MB/s eta 0:00:04\n",
      "     -------------------                      5.4/11.0 MB 1.7 MB/s eta 0:00:04\n",
      "     -------------------                      5.5/11.0 MB 1.8 MB/s eta 0:00:04\n",
      "     --------------------                     5.6/11.0 MB 1.8 MB/s eta 0:00:04\n",
      "     --------------------                     5.7/11.0 MB 1.8 MB/s eta 0:00:04\n",
      "     --------------------                     5.8/11.0 MB 1.8 MB/s eta 0:00:03\n",
      "     ---------------------                    5.9/11.0 MB 1.8 MB/s eta 0:00:03\n",
      "     ---------------------                    5.9/11.0 MB 1.8 MB/s eta 0:00:03\n",
      "     ---------------------                    6.0/11.0 MB 1.8 MB/s eta 0:00:03\n",
      "     ----------------------                   6.1/11.0 MB 1.8 MB/s eta 0:00:03\n",
      "     ----------------------                   6.3/11.0 MB 1.8 MB/s eta 0:00:03\n",
      "     -----------------------                  6.4/11.0 MB 1.8 MB/s eta 0:00:03\n",
      "     -----------------------                  6.5/11.0 MB 1.8 MB/s eta 0:00:03\n",
      "     -----------------------                  6.6/11.0 MB 1.8 MB/s eta 0:00:03\n",
      "     ------------------------                 6.7/11.0 MB 1.8 MB/s eta 0:00:03\n",
      "     ------------------------                 6.9/11.0 MB 1.8 MB/s eta 0:00:03\n",
      "     -------------------------                7.0/11.0 MB 1.9 MB/s eta 0:00:03\n",
      "     -------------------------                7.1/11.0 MB 1.9 MB/s eta 0:00:03\n",
      "     --------------------------               7.2/11.0 MB 1.9 MB/s eta 0:00:03\n",
      "     --------------------------               7.3/11.0 MB 1.9 MB/s eta 0:00:02\n",
      "     --------------------------               7.4/11.0 MB 1.9 MB/s eta 0:00:02\n",
      "     ---------------------------              7.5/11.0 MB 1.9 MB/s eta 0:00:02\n",
      "     ---------------------------              7.6/11.0 MB 1.9 MB/s eta 0:00:02\n",
      "     ---------------------------              7.7/11.0 MB 1.9 MB/s eta 0:00:02\n",
      "     ----------------------------             7.8/11.0 MB 1.9 MB/s eta 0:00:02\n",
      "     ----------------------------             7.9/11.0 MB 1.9 MB/s eta 0:00:02\n",
      "     -----------------------------            8.0/11.0 MB 1.9 MB/s eta 0:00:02\n",
      "     -----------------------------            8.1/11.0 MB 1.9 MB/s eta 0:00:02\n",
      "     -----------------------------            8.1/11.0 MB 1.9 MB/s eta 0:00:02\n",
      "     -----------------------------            8.2/11.0 MB 1.9 MB/s eta 0:00:02\n",
      "     -----------------------------            8.2/11.0 MB 1.9 MB/s eta 0:00:02\n",
      "     -----------------------------            8.2/11.0 MB 1.9 MB/s eta 0:00:02\n",
      "     -----------------------------            8.2/11.0 MB 1.9 MB/s eta 0:00:02\n",
      "     ------------------------------           8.3/11.0 MB 1.8 MB/s eta 0:00:02\n",
      "     ------------------------------           8.4/11.0 MB 1.8 MB/s eta 0:00:02\n",
      "     ------------------------------           8.4/11.0 MB 1.8 MB/s eta 0:00:02\n",
      "     ------------------------------           8.5/11.0 MB 1.8 MB/s eta 0:00:02\n",
      "     -------------------------------          8.6/11.0 MB 1.8 MB/s eta 0:00:02\n",
      "     -------------------------------          8.6/11.0 MB 1.8 MB/s eta 0:00:02\n",
      "     -------------------------------          8.7/11.0 MB 1.8 MB/s eta 0:00:02\n",
      "     -------------------------------          8.7/11.0 MB 1.8 MB/s eta 0:00:02\n",
      "     -------------------------------          8.8/11.0 MB 1.8 MB/s eta 0:00:02\n",
      "     -------------------------------          8.8/11.0 MB 1.8 MB/s eta 0:00:02\n",
      "     --------------------------------         8.9/11.0 MB 1.8 MB/s eta 0:00:02\n",
      "     --------------------------------         9.0/11.0 MB 1.8 MB/s eta 0:00:02\n",
      "     --------------------------------         9.1/11.0 MB 1.8 MB/s eta 0:00:02\n",
      "     ---------------------------------        9.2/11.0 MB 1.8 MB/s eta 0:00:02\n",
      "     ---------------------------------        9.2/11.0 MB 1.8 MB/s eta 0:00:02\n",
      "     ---------------------------------        9.2/11.0 MB 1.8 MB/s eta 0:00:02\n",
      "     ---------------------------------        9.3/11.0 MB 1.8 MB/s eta 0:00:01\n",
      "     ----------------------------------       9.4/11.0 MB 1.8 MB/s eta 0:00:01\n",
      "     ----------------------------------       9.5/11.0 MB 1.8 MB/s eta 0:00:01\n",
      "     ----------------------------------       9.6/11.0 MB 1.8 MB/s eta 0:00:01\n",
      "     ----------------------------------       9.7/11.0 MB 1.8 MB/s eta 0:00:01\n",
      "     -----------------------------------      9.7/11.0 MB 1.8 MB/s eta 0:00:01\n",
      "     -----------------------------------      9.8/11.0 MB 1.8 MB/s eta 0:00:01\n",
      "     -----------------------------------      9.9/11.0 MB 1.8 MB/s eta 0:00:01\n",
      "     ------------------------------------     10.0/11.0 MB 1.8 MB/s eta 0:00:01\n",
      "     ------------------------------------     10.0/11.0 MB 1.8 MB/s eta 0:00:01\n",
      "     ------------------------------------     10.1/11.0 MB 1.8 MB/s eta 0:00:01\n",
      "     ------------------------------------     10.2/11.0 MB 1.8 MB/s eta 0:00:01\n",
      "     -------------------------------------    10.3/11.0 MB 1.8 MB/s eta 0:00:01\n",
      "     -------------------------------------    10.4/11.0 MB 1.8 MB/s eta 0:00:01\n",
      "     --------------------------------------   10.5/11.0 MB 1.8 MB/s eta 0:00:01\n",
      "     --------------------------------------   10.6/11.0 MB 1.9 MB/s eta 0:00:01\n",
      "     --------------------------------------   10.7/11.0 MB 1.9 MB/s eta 0:00:01\n",
      "     ---------------------------------------  10.8/11.0 MB 2.0 MB/s eta 0:00:01\n",
      "     ---------------------------------------  10.9/11.0 MB 2.0 MB/s eta 0:00:01\n",
      "     ---------------------------------------  10.9/11.0 MB 2.0 MB/s eta 0:00:01\n",
      "     ---------------------------------------  11.0/11.0 MB 2.0 MB/s eta 0:00:01\n",
      "     ---------------------------------------- 11.0/11.0 MB 1.9 MB/s eta 0:00:00\n",
      "Collecting numpy>=1.23.2 (from pandas)\n",
      "  Downloading numpy-1.26.0-cp311-cp311-win_amd64.whl (15.8 MB)\n",
      "                                              0.0/15.8 MB ? eta -:--:--\n",
      "                                              0.1/15.8 MB 2.2 MB/s eta 0:00:08\n",
      "                                              0.2/15.8 MB 2.3 MB/s eta 0:00:07\n",
      "                                              0.3/15.8 MB 2.1 MB/s eta 0:00:08\n",
      "     -                                        0.4/15.8 MB 2.1 MB/s eta 0:00:08\n",
      "     -                                        0.5/15.8 MB 2.3 MB/s eta 0:00:07\n",
      "     -                                        0.6/15.8 MB 2.2 MB/s eta 0:00:07\n",
      "     -                                        0.7/15.8 MB 2.3 MB/s eta 0:00:07\n",
      "     --                                       0.9/15.8 MB 2.4 MB/s eta 0:00:07\n",
      "     --                                       1.0/15.8 MB 2.4 MB/s eta 0:00:07\n",
      "     --                                       1.1/15.8 MB 2.5 MB/s eta 0:00:06\n",
      "     ---                                      1.3/15.8 MB 2.5 MB/s eta 0:00:06\n",
      "     ---                                      1.4/15.8 MB 2.5 MB/s eta 0:00:06\n",
      "     ---                                      1.5/15.8 MB 2.4 MB/s eta 0:00:06\n",
      "     ----                                     1.6/15.8 MB 2.5 MB/s eta 0:00:06\n",
      "     ----                                     1.8/15.8 MB 2.5 MB/s eta 0:00:06\n",
      "     ----                                     1.9/15.8 MB 2.6 MB/s eta 0:00:06\n",
      "     -----                                    2.0/15.8 MB 2.6 MB/s eta 0:00:06\n",
      "     -----                                    2.1/15.8 MB 2.5 MB/s eta 0:00:06\n",
      "     -----                                    2.2/15.8 MB 2.6 MB/s eta 0:00:06\n",
      "     -----                                    2.3/15.8 MB 2.5 MB/s eta 0:00:06\n",
      "     ------                                   2.4/15.8 MB 2.6 MB/s eta 0:00:06\n",
      "     ------                                   2.6/15.8 MB 2.6 MB/s eta 0:00:06\n",
      "     ------                                   2.7/15.8 MB 2.6 MB/s eta 0:00:06\n",
      "     -------                                  2.8/15.8 MB 2.5 MB/s eta 0:00:06\n",
      "     -------                                  2.9/15.8 MB 2.6 MB/s eta 0:00:06\n",
      "     -------                                  3.1/15.8 MB 2.6 MB/s eta 0:00:05\n",
      "     --------                                 3.2/15.8 MB 2.6 MB/s eta 0:00:05\n",
      "     --------                                 3.3/15.8 MB 2.6 MB/s eta 0:00:05\n",
      "     --------                                 3.4/15.8 MB 2.6 MB/s eta 0:00:05\n",
      "     ---------                                3.6/15.8 MB 2.6 MB/s eta 0:00:05\n",
      "     ---------                                3.7/15.8 MB 2.6 MB/s eta 0:00:05\n",
      "     ---------                                3.8/15.8 MB 2.6 MB/s eta 0:00:05\n",
      "     ---------                                3.9/15.8 MB 2.6 MB/s eta 0:00:05\n",
      "     ----------                               4.1/15.8 MB 2.6 MB/s eta 0:00:05\n",
      "     ----------                               4.2/15.8 MB 2.6 MB/s eta 0:00:05\n",
      "     ----------                               4.3/15.8 MB 2.6 MB/s eta 0:00:05\n",
      "     -----------                              4.4/15.8 MB 2.6 MB/s eta 0:00:05\n",
      "     -----------                              4.5/15.8 MB 2.6 MB/s eta 0:00:05\n",
      "     -----------                              4.6/15.8 MB 2.6 MB/s eta 0:00:05\n",
      "     ------------                             4.8/15.8 MB 2.6 MB/s eta 0:00:05\n",
      "     ------------                             4.9/15.8 MB 2.6 MB/s eta 0:00:05\n",
      "     ------------                             5.0/15.8 MB 2.6 MB/s eta 0:00:05\n",
      "     -------------                            5.2/15.8 MB 2.6 MB/s eta 0:00:05\n",
      "     -------------                            5.3/15.8 MB 2.6 MB/s eta 0:00:05\n",
      "     -------------                            5.4/15.8 MB 2.6 MB/s eta 0:00:04\n",
      "     --------------                           5.5/15.8 MB 2.6 MB/s eta 0:00:04\n",
      "     --------------                           5.6/15.8 MB 2.6 MB/s eta 0:00:04\n",
      "     --------------                           5.8/15.8 MB 2.6 MB/s eta 0:00:04\n",
      "     --------------                           5.9/15.8 MB 2.6 MB/s eta 0:00:04\n",
      "     ---------------                          6.0/15.8 MB 2.6 MB/s eta 0:00:04\n",
      "     ---------------                          6.2/15.8 MB 2.6 MB/s eta 0:00:04\n",
      "     ---------------                          6.2/15.8 MB 2.6 MB/s eta 0:00:04\n",
      "     ----------------                         6.3/15.8 MB 2.6 MB/s eta 0:00:04\n",
      "     ----------------                         6.4/15.8 MB 2.6 MB/s eta 0:00:04\n",
      "     ----------------                         6.6/15.8 MB 2.6 MB/s eta 0:00:04\n",
      "     ----------------                         6.6/15.8 MB 2.6 MB/s eta 0:00:04\n",
      "     -----------------                        6.8/15.8 MB 2.6 MB/s eta 0:00:04\n",
      "     -----------------                        6.9/15.8 MB 2.6 MB/s eta 0:00:04\n",
      "     -----------------                        7.0/15.8 MB 2.6 MB/s eta 0:00:04\n",
      "     -----------------                        7.1/15.8 MB 2.6 MB/s eta 0:00:04\n",
      "     ------------------                       7.3/15.8 MB 2.6 MB/s eta 0:00:04\n",
      "     ------------------                       7.4/15.8 MB 2.6 MB/s eta 0:00:04\n",
      "     -------------------                      7.6/15.8 MB 2.6 MB/s eta 0:00:04\n",
      "     -------------------                      7.7/15.8 MB 2.6 MB/s eta 0:00:04\n",
      "     -------------------                      7.8/15.8 MB 2.6 MB/s eta 0:00:04\n",
      "     -------------------                      7.9/15.8 MB 2.6 MB/s eta 0:00:04\n",
      "     --------------------                     8.0/15.8 MB 2.6 MB/s eta 0:00:03\n",
      "     --------------------                     8.2/15.8 MB 2.6 MB/s eta 0:00:03\n",
      "     ---------------------                    8.3/15.8 MB 2.6 MB/s eta 0:00:03\n",
      "     ---------------------                    8.5/15.8 MB 2.7 MB/s eta 0:00:03\n",
      "     ---------------------                    8.7/15.8 MB 2.7 MB/s eta 0:00:03\n",
      "     ----------------------                   8.8/15.8 MB 2.7 MB/s eta 0:00:03\n",
      "     ----------------------                   8.9/15.8 MB 2.7 MB/s eta 0:00:03\n",
      "     ----------------------                   9.0/15.8 MB 2.7 MB/s eta 0:00:03\n",
      "     -----------------------                  9.2/15.8 MB 2.7 MB/s eta 0:00:03\n",
      "     -----------------------                  9.3/15.8 MB 2.7 MB/s eta 0:00:03\n",
      "     -----------------------                  9.4/15.8 MB 2.7 MB/s eta 0:00:03\n",
      "     ------------------------                 9.6/15.8 MB 2.7 MB/s eta 0:00:03\n",
      "     ------------------------                 9.7/15.8 MB 2.7 MB/s eta 0:00:03\n",
      "     ------------------------                 9.7/15.8 MB 2.7 MB/s eta 0:00:03\n",
      "     ------------------------                 9.8/15.8 MB 2.6 MB/s eta 0:00:03\n",
      "     ------------------------                 9.8/15.8 MB 2.6 MB/s eta 0:00:03\n",
      "     ------------------------                 9.8/15.8 MB 2.6 MB/s eta 0:00:03\n",
      "     ------------------------                 9.8/15.8 MB 2.6 MB/s eta 0:00:03\n",
      "     ------------------------                 9.8/15.8 MB 2.6 MB/s eta 0:00:03\n",
      "     ------------------------                 9.8/15.8 MB 2.5 MB/s eta 0:00:03\n",
      "     ------------------------                 9.8/15.8 MB 2.5 MB/s eta 0:00:03\n",
      "     ------------------------                 9.8/15.8 MB 2.5 MB/s eta 0:00:03\n",
      "     ------------------------                 9.8/15.8 MB 2.5 MB/s eta 0:00:03\n",
      "     ------------------------                 9.8/15.8 MB 2.5 MB/s eta 0:00:03\n",
      "     ------------------------                 9.8/15.8 MB 2.5 MB/s eta 0:00:03\n",
      "     ------------------------                 9.8/15.8 MB 2.5 MB/s eta 0:00:03\n",
      "     ------------------------                 9.8/15.8 MB 2.5 MB/s eta 0:00:03\n",
      "     ------------------------                 9.8/15.8 MB 2.5 MB/s eta 0:00:03\n",
      "     ------------------------                 9.8/15.8 MB 2.3 MB/s eta 0:00:03\n",
      "     ------------------------                 9.8/15.8 MB 2.3 MB/s eta 0:00:03\n",
      "     ------------------------                 9.9/15.8 MB 2.2 MB/s eta 0:00:03\n",
      "     ------------------------                 9.9/15.8 MB 2.2 MB/s eta 0:00:03\n",
      "     ------------------------                 9.9/15.8 MB 2.2 MB/s eta 0:00:03\n",
      "     ------------------------                 9.9/15.8 MB 2.2 MB/s eta 0:00:03\n",
      "     ------------------------                 9.9/15.8 MB 2.2 MB/s eta 0:00:03\n",
      "     ------------------------                 9.9/15.8 MB 2.2 MB/s eta 0:00:03\n",
      "     ------------------------                 9.9/15.8 MB 2.2 MB/s eta 0:00:03\n",
      "     ------------------------                 9.9/15.8 MB 2.2 MB/s eta 0:00:03\n",
      "     -------------------------                10.0/15.8 MB 2.1 MB/s eta 0:00:03\n",
      "     -------------------------                10.0/15.8 MB 2.1 MB/s eta 0:00:03\n",
      "     -------------------------                10.0/15.8 MB 2.1 MB/s eta 0:00:03\n",
      "     -------------------------                10.0/15.8 MB 2.1 MB/s eta 0:00:03\n",
      "     -------------------------                10.0/15.8 MB 2.0 MB/s eta 0:00:03\n",
      "     -------------------------                10.0/15.8 MB 2.0 MB/s eta 0:00:03\n",
      "     -------------------------                10.1/15.8 MB 2.0 MB/s eta 0:00:03\n",
      "     -------------------------                10.2/15.8 MB 2.0 MB/s eta 0:00:03\n",
      "     -------------------------                10.3/15.8 MB 2.0 MB/s eta 0:00:03\n",
      "     --------------------------               10.3/15.8 MB 2.0 MB/s eta 0:00:03\n",
      "     --------------------------               10.4/15.8 MB 2.0 MB/s eta 0:00:03\n",
      "     --------------------------               10.4/15.8 MB 2.0 MB/s eta 0:00:03\n",
      "     --------------------------               10.5/15.8 MB 2.0 MB/s eta 0:00:03\n",
      "     --------------------------               10.6/15.8 MB 2.0 MB/s eta 0:00:03\n",
      "     --------------------------               10.6/15.8 MB 2.0 MB/s eta 0:00:03\n",
      "     ---------------------------              10.7/15.8 MB 1.9 MB/s eta 0:00:03\n",
      "     ---------------------------              10.8/15.8 MB 1.9 MB/s eta 0:00:03\n",
      "     ---------------------------              10.9/15.8 MB 1.9 MB/s eta 0:00:03\n",
      "     ---------------------------              10.9/15.8 MB 1.9 MB/s eta 0:00:03\n",
      "     ---------------------------              11.0/15.8 MB 1.9 MB/s eta 0:00:03\n",
      "     ----------------------------             11.1/15.8 MB 1.9 MB/s eta 0:00:03\n",
      "     ----------------------------             11.1/15.8 MB 1.9 MB/s eta 0:00:03\n",
      "     ----------------------------             11.2/15.8 MB 1.9 MB/s eta 0:00:03\n",
      "     ----------------------------             11.3/15.8 MB 1.9 MB/s eta 0:00:03\n",
      "     ----------------------------             11.3/15.8 MB 1.9 MB/s eta 0:00:03\n",
      "     ----------------------------             11.4/15.8 MB 1.9 MB/s eta 0:00:03\n",
      "     -----------------------------            11.5/15.8 MB 1.9 MB/s eta 0:00:03\n",
      "     -----------------------------            11.6/15.8 MB 1.9 MB/s eta 0:00:03\n",
      "     -----------------------------            11.6/15.8 MB 1.9 MB/s eta 0:00:03\n",
      "     -----------------------------            11.7/15.8 MB 1.9 MB/s eta 0:00:03\n",
      "     -----------------------------            11.8/15.8 MB 1.9 MB/s eta 0:00:03\n",
      "     -----------------------------            11.8/15.8 MB 1.8 MB/s eta 0:00:03\n",
      "     ------------------------------           11.9/15.8 MB 1.8 MB/s eta 0:00:03\n",
      "     ------------------------------           12.0/15.8 MB 1.8 MB/s eta 0:00:03\n",
      "     ------------------------------           12.0/15.8 MB 1.8 MB/s eta 0:00:03\n",
      "     ------------------------------           12.1/15.8 MB 1.8 MB/s eta 0:00:03\n",
      "     ------------------------------           12.2/15.8 MB 1.8 MB/s eta 0:00:02\n",
      "     -------------------------------          12.2/15.8 MB 1.8 MB/s eta 0:00:02\n",
      "     -------------------------------          12.3/15.8 MB 1.8 MB/s eta 0:00:02\n",
      "     -------------------------------          12.4/15.8 MB 1.8 MB/s eta 0:00:02\n",
      "     -------------------------------          12.5/15.8 MB 1.8 MB/s eta 0:00:02\n",
      "     -------------------------------          12.5/15.8 MB 1.8 MB/s eta 0:00:02\n",
      "     -------------------------------          12.6/15.8 MB 1.8 MB/s eta 0:00:02\n",
      "     --------------------------------         12.6/15.8 MB 1.8 MB/s eta 0:00:02\n",
      "     --------------------------------         12.7/15.8 MB 1.8 MB/s eta 0:00:02\n",
      "     --------------------------------         12.8/15.8 MB 1.8 MB/s eta 0:00:02\n",
      "     --------------------------------         12.9/15.8 MB 1.8 MB/s eta 0:00:02\n",
      "     --------------------------------         12.9/15.8 MB 1.8 MB/s eta 0:00:02\n",
      "     --------------------------------         13.0/15.8 MB 1.8 MB/s eta 0:00:02\n",
      "     ---------------------------------        13.0/15.8 MB 1.7 MB/s eta 0:00:02\n",
      "     ---------------------------------        13.1/15.8 MB 1.7 MB/s eta 0:00:02\n",
      "     ---------------------------------        13.2/15.8 MB 1.7 MB/s eta 0:00:02\n",
      "     ---------------------------------        13.3/15.8 MB 1.7 MB/s eta 0:00:02\n",
      "     ---------------------------------        13.3/15.8 MB 1.7 MB/s eta 0:00:02\n",
      "     ---------------------------------        13.4/15.8 MB 1.7 MB/s eta 0:00:02\n",
      "     ---------------------------------        13.4/15.8 MB 1.7 MB/s eta 0:00:02\n",
      "     ----------------------------------       13.5/15.8 MB 1.7 MB/s eta 0:00:02\n",
      "     ----------------------------------       13.6/15.8 MB 1.7 MB/s eta 0:00:02\n",
      "     ----------------------------------       13.7/15.8 MB 1.7 MB/s eta 0:00:02\n",
      "     ----------------------------------       13.7/15.8 MB 1.7 MB/s eta 0:00:02\n",
      "     ----------------------------------       13.8/15.8 MB 1.7 MB/s eta 0:00:02\n",
      "     -----------------------------------      13.9/15.8 MB 1.7 MB/s eta 0:00:02\n",
      "     -----------------------------------      13.9/15.8 MB 1.7 MB/s eta 0:00:02\n",
      "     -----------------------------------      14.0/15.8 MB 1.7 MB/s eta 0:00:02\n",
      "     -----------------------------------      14.1/15.8 MB 1.7 MB/s eta 0:00:02\n",
      "     -----------------------------------      14.1/15.8 MB 1.7 MB/s eta 0:00:02\n",
      "     -----------------------------------      14.2/15.8 MB 1.6 MB/s eta 0:00:01\n",
      "     ------------------------------------     14.3/15.8 MB 1.6 MB/s eta 0:00:01\n",
      "     ------------------------------------     14.4/15.8 MB 1.6 MB/s eta 0:00:01\n",
      "     ------------------------------------     14.4/15.8 MB 1.6 MB/s eta 0:00:01\n",
      "     ------------------------------------     14.5/15.8 MB 1.6 MB/s eta 0:00:01\n",
      "     ------------------------------------     14.6/15.8 MB 1.6 MB/s eta 0:00:01\n",
      "     -------------------------------------    14.6/15.8 MB 1.6 MB/s eta 0:00:01\n",
      "     -------------------------------------    14.7/15.8 MB 1.6 MB/s eta 0:00:01\n",
      "     -------------------------------------    14.8/15.8 MB 1.6 MB/s eta 0:00:01\n",
      "     -------------------------------------    14.8/15.8 MB 1.6 MB/s eta 0:00:01\n",
      "     -------------------------------------    14.9/15.8 MB 1.6 MB/s eta 0:00:01\n",
      "     -------------------------------------    15.0/15.8 MB 1.6 MB/s eta 0:00:01\n",
      "     --------------------------------------   15.0/15.8 MB 1.6 MB/s eta 0:00:01\n",
      "     --------------------------------------   15.1/15.8 MB 1.6 MB/s eta 0:00:01\n",
      "     --------------------------------------   15.1/15.8 MB 1.6 MB/s eta 0:00:01\n",
      "     --------------------------------------   15.2/15.8 MB 1.6 MB/s eta 0:00:01\n",
      "     --------------------------------------   15.3/15.8 MB 1.6 MB/s eta 0:00:01\n",
      "     --------------------------------------   15.4/15.8 MB 1.6 MB/s eta 0:00:01\n",
      "     ---------------------------------------  15.5/15.8 MB 1.6 MB/s eta 0:00:01\n",
      "     ---------------------------------------  15.5/15.8 MB 1.6 MB/s eta 0:00:01\n",
      "     ---------------------------------------  15.6/15.8 MB 1.6 MB/s eta 0:00:01\n",
      "     ---------------------------------------  15.6/15.8 MB 1.5 MB/s eta 0:00:01\n",
      "     ---------------------------------------  15.7/15.8 MB 1.5 MB/s eta 0:00:01\n",
      "     ---------------------------------------  15.8/15.8 MB 1.5 MB/s eta 0:00:01\n",
      "     ---------------------------------------- 15.8/15.8 MB 1.5 MB/s eta 0:00:00\n",
      "Requirement already satisfied: python-dateutil>=2.8.2 in c:\\users\\thops\\appdata\\roaming\\python\\python311\\site-packages (from pandas) (2.8.2)\n",
      "Collecting pytz>=2020.1 (from pandas)\n",
      "  Downloading pytz-2023.3.post1-py2.py3-none-any.whl (502 kB)\n",
      "                                              0.0/502.5 kB ? eta -:--:--\n",
      "     -------                                102.4/502.5 kB 2.0 MB/s eta 0:00:01\n",
      "     -------------                          174.1/502.5 kB 2.1 MB/s eta 0:00:01\n",
      "     -----------------                      235.5/502.5 kB 1.8 MB/s eta 0:00:01\n",
      "     ------------------------               317.4/502.5 kB 2.0 MB/s eta 0:00:01\n",
      "     -------------------------------        419.8/502.5 kB 1.9 MB/s eta 0:00:01\n",
      "     -----------------------------------    471.0/502.5 kB 1.8 MB/s eta 0:00:01\n",
      "     -------------------------------------- 502.5/502.5 kB 1.8 MB/s eta 0:00:00\n",
      "Collecting tzdata>=2022.1 (from pandas)\n",
      "  Downloading tzdata-2023.3-py2.py3-none-any.whl (341 kB)\n",
      "                                              0.0/341.8 kB ? eta -:--:--\n",
      "     --------                                71.7/341.8 kB 2.0 MB/s eta 0:00:01\n",
      "     -------------------                    174.1/341.8 kB 2.6 MB/s eta 0:00:01\n",
      "     -----------------------------          266.2/341.8 kB 2.0 MB/s eta 0:00:01\n",
      "     -------------------------------------- 341.8/341.8 kB 2.1 MB/s eta 0:00:00\n",
      "Requirement already satisfied: six>=1.5 in c:\\users\\thops\\appdata\\roaming\\python\\python311\\site-packages (from python-dateutil>=2.8.2->pandas) (1.16.0)\n",
      "Installing collected packages: pytz, tzdata, numpy, pandas\n",
      "Successfully installed numpy-1.26.0 pandas-2.1.0 pytz-2023.3.post1 tzdata-2023.3\n",
      "Note: you may need to restart the kernel to use updated packages.\n"
     ]
    },
    {
     "name": "stderr",
     "output_type": "stream",
     "text": [
      "\n",
      "[notice] A new release of pip is available: 23.1.2 -> 23.2.1\n",
      "[notice] To update, run: python.exe -m pip install --upgrade pip\n"
     ]
    }
   ],
   "source": [
    "pip install pandas"
   ]
  },
  {
   "cell_type": "code",
   "execution_count": 6,
   "id": "b45cc9af",
   "metadata": {},
   "outputs": [
    {
     "name": "stdout",
     "output_type": "stream",
     "text": [
      "['ArrowDtype', 'BooleanDtype', 'Categorical', 'CategoricalDtype', 'CategoricalIndex', 'DataFrame', 'DateOffset', 'DatetimeIndex', 'DatetimeTZDtype', 'ExcelFile', 'ExcelWriter', 'Flags', 'Float32Dtype', 'Float64Dtype', 'Grouper', 'HDFStore', 'Index', 'IndexSlice', 'Int16Dtype', 'Int32Dtype', 'Int64Dtype', 'Int8Dtype', 'Interval', 'IntervalDtype', 'IntervalIndex', 'MultiIndex', 'NA', 'NaT', 'NamedAgg', 'Period', 'PeriodDtype', 'PeriodIndex', 'RangeIndex', 'Series', 'SparseDtype', 'StringDtype', 'Timedelta', 'TimedeltaIndex', 'Timestamp', 'UInt16Dtype', 'UInt32Dtype', 'UInt64Dtype', 'UInt8Dtype', '__all__', '__builtins__', '__cached__', '__doc__', '__docformat__', '__file__', '__git_version__', '__loader__', '__name__', '__package__', '__path__', '__spec__', '__version__', '_built_with_meson', '_config', '_is_numpy_dev', '_libs', '_pandas_datetime_CAPI', '_pandas_parser_CAPI', '_testing', '_typing', '_version_meson', 'annotations', 'api', 'array', 'arrays', 'bdate_range', 'compat', 'concat', 'core', 'crosstab', 'cut', 'date_range', 'describe_option', 'errors', 'eval', 'factorize', 'from_dummies', 'get_dummies', 'get_option', 'infer_freq', 'interval_range', 'io', 'isna', 'isnull', 'json_normalize', 'lreshape', 'melt', 'merge', 'merge_asof', 'merge_ordered', 'notna', 'notnull', 'offsets', 'option_context', 'options', 'pandas', 'period_range', 'pivot', 'pivot_table', 'plotting', 'qcut', 'read_clipboard', 'read_csv', 'read_excel', 'read_feather', 'read_fwf', 'read_gbq', 'read_hdf', 'read_html', 'read_json', 'read_orc', 'read_parquet', 'read_pickle', 'read_sas', 'read_spss', 'read_sql', 'read_sql_query', 'read_sql_table', 'read_stata', 'read_table', 'read_xml', 'reset_option', 'set_eng_float_format', 'set_option', 'show_versions', 'test', 'testing', 'timedelta_range', 'to_datetime', 'to_numeric', 'to_pickle', 'to_timedelta', 'tseries', 'unique', 'util', 'value_counts', 'wide_to_long']\n"
     ]
    }
   ],
   "source": [
    "import pandas as pd\n",
    "\n",
    "# List all attributes in the pandas module\n",
    "print(dir(pd))"
   ]
  },
  {
   "cell_type": "code",
   "execution_count": 13,
   "id": "2711851e",
   "metadata": {},
   "outputs": [
    {
     "name": "stdout",
     "output_type": "stream",
     "text": [
      "['ConnectTimeout', 'ConnectionError', 'DependencyWarning', 'FileModeWarning', 'HTTPError', 'JSONDecodeError', 'NullHandler', 'PreparedRequest', 'ReadTimeout', 'Request', 'RequestException', 'RequestsDependencyWarning', 'Response', 'Session', 'Timeout', 'TooManyRedirects', 'URLRequired', '__author__', '__author_email__', '__build__', '__builtins__', '__cached__', '__cake__', '__copyright__', '__description__', '__doc__', '__file__', '__license__', '__loader__', '__name__', '__package__', '__path__', '__spec__', '__title__', '__url__', '__version__', '_check_cryptography', '_internal_utils', 'adapters', 'api', 'auth', 'certs', 'chardet_version', 'charset_normalizer_version', 'check_compatibility', 'codes', 'compat', 'cookies', 'delete', 'exceptions', 'get', 'head', 'hooks', 'logging', 'models', 'options', 'packages', 'patch', 'post', 'put', 'request', 'session', 'sessions', 'ssl', 'status_codes', 'structures', 'urllib3', 'utils', 'warnings']\n"
     ]
    }
   ],
   "source": [
    "import requests\n",
    "\n",
    "# List all attributes in the requests module\n",
    "print(dir(requests))\n"
   ]
  },
  {
   "cell_type": "code",
   "execution_count": 4,
   "id": "ff72d88a",
   "metadata": {},
   "outputs": [
    {
     "name": "stdout",
     "output_type": "stream",
     "text": [
      "['Dialect', 'DictReader', 'DictWriter', 'Error', 'QUOTE_ALL', 'QUOTE_MINIMAL', 'QUOTE_NONE', 'QUOTE_NONNUMERIC', 'Sniffer', 'StringIO', '_Dialect', '__all__', '__builtins__', '__cached__', '__doc__', '__file__', '__loader__', '__name__', '__package__', '__spec__', '__version__', 'excel', 'excel_tab', 'field_size_limit', 'get_dialect', 'list_dialects', 're', 'reader', 'register_dialect', 'unix_dialect', 'unregister_dialect', 'writer']\n"
     ]
    }
   ],
   "source": [
    "import csv\n",
    "\n",
    "# List all attributes in the bs4 module\n",
    "print(dir(csv))"
   ]
  },
  {
   "cell_type": "code",
   "execution_count": 3,
   "id": "57de5fab",
   "metadata": {},
   "outputs": [
    {
     "name": "stdout",
     "output_type": "stream",
     "text": [
      "['ASCII_SPACES', 'DEFAULT_BUILDER_FEATURES', 'DEFAULT_INTERESTING_STRING_TYPES', 'EMPTY_ELEMENT_EVENT', 'END_ELEMENT_EVENT', 'NO_PARSER_SPECIFIED_WARNING', 'ROOT_TAG_NAME', 'START_ELEMENT_EVENT', 'STRING_ELEMENT_EVENT', '__bool__', '__call__', '__class__', '__contains__', '__copy__', '__deepcopy__', '__delattr__', '__delitem__', '__dict__', '__dir__', '__doc__', '__eq__', '__format__', '__ge__', '__getattr__', '__getattribute__', '__getitem__', '__getstate__', '__gt__', '__hash__', '__init__', '__init_subclass__', '__iter__', '__le__', '__len__', '__lt__', '__module__', '__ne__', '__new__', '__reduce__', '__reduce_ex__', '__repr__', '__setattr__', '__setitem__', '__setstate__', '__sizeof__', '__str__', '__subclasshook__', '__unicode__', '__weakref__', '_all_strings', '_clone', '_decode_markup', '_event_stream', '_feed', '_find_all', '_find_one', '_format_tag', '_indent_string', '_is_xml', '_lastRecursiveChild', '_last_descendant', '_linkage_fixer', '_markup_is_url', '_markup_resembles_filename', '_popToTag', '_should_pretty_print', 'append', 'childGenerator', 'children', 'clear', 'css', 'decode', 'decode_contents', 'decompose', 'decomposed', 'default', 'descendants', 'encode', 'encode_contents', 'endData', 'extend', 'extract', 'fetchNextSiblings', 'fetchParents', 'fetchPrevious', 'fetchPreviousSiblings', 'find', 'findAll', 'findAllNext', 'findAllPrevious', 'findChild', 'findChildren', 'findNext', 'findNextSibling', 'findNextSiblings', 'findParent', 'findParents', 'findPrevious', 'findPreviousSibling', 'findPreviousSiblings', 'find_all', 'find_all_next', 'find_all_previous', 'find_next', 'find_next_sibling', 'find_next_siblings', 'find_parent', 'find_parents', 'find_previous', 'find_previous_sibling', 'find_previous_siblings', 'format_string', 'formatter_for_name', 'get', 'getText', 'get_attribute_list', 'get_text', 'handle_data', 'handle_endtag', 'handle_starttag', 'has_attr', 'has_key', 'index', 'insert', 'insert_after', 'insert_before', 'isSelfClosing', 'is_empty_element', 'known_xml', 'new_string', 'new_tag', 'next', 'nextGenerator', 'nextSibling', 'nextSiblingGenerator', 'next_elements', 'next_siblings', 'object_was_parsed', 'parentGenerator', 'parents', 'parserClass', 'popTag', 'prettify', 'previous', 'previousGenerator', 'previousSibling', 'previousSiblingGenerator', 'previous_elements', 'previous_siblings', 'pushTag', 'recursiveChildGenerator', 'renderContents', 'replaceWith', 'replaceWithChildren', 'replace_with', 'replace_with_children', 'reset', 'select', 'select_one', 'self_and_descendants', 'setup', 'smooth', 'string', 'string_container', 'strings', 'stripped_strings', 'text', 'unwrap', 'wrap']\n"
     ]
    }
   ],
   "source": [
    "# run this line \"pip install bs4\" in the command window \n",
    "\n",
    "from bs4 import BeautifulSoup\n",
    "\n",
    "# List all attributes in the bs4 module\n",
    "print(dir(BeautifulSoup))"
   ]
  },
  {
   "cell_type": "code",
   "execution_count": 10,
   "id": "8059a21a",
   "metadata": {},
   "outputs": [
    {
     "ename": "PermissionError",
     "evalue": "[Errno 13] Permission denied: 'scraped_nba_data.csv'",
     "output_type": "error",
     "traceback": [
      "\u001b[1;31m---------------------------------------------------------------------------\u001b[0m",
      "\u001b[1;31mPermissionError\u001b[0m                           Traceback (most recent call last)",
      "\u001b[1;32mc:\\Users\\thops\\OneDrive\\Desktop\\2023\\github projects\\NBA Drafted Player Impact\\NBA Drafted Player Impact.ipynb Cell 14\u001b[0m line \u001b[0;36m2\n\u001b[0;32m     <a href='vscode-notebook-cell:/c%3A/Users/thops/OneDrive/Desktop/2023/github%20projects/NBA%20Drafted%20Player%20Impact/NBA%20Drafted%20Player%20Impact.ipynb#X15sZmlsZQ%3D%3D?line=13'>14</a>\u001b[0m teams \u001b[39m=\u001b[39m soup\u001b[39m.\u001b[39mfindAll(\u001b[39m\"\u001b[39m\u001b[39ma\u001b[39m\u001b[39m\"\u001b[39m, attrs\u001b[39m=\u001b[39m{\u001b[39m\"\u001b[39m\u001b[39mclass\u001b[39m\u001b[39m\"\u001b[39m:\u001b[39m\"\u001b[39m\u001b[39mAnchor_anchor__cSc3P\u001b[39m\u001b[39m\"\u001b[39m})\n\u001b[0;32m     <a href='vscode-notebook-cell:/c%3A/Users/thops/OneDrive/Desktop/2023/github%20projects/NBA%20Drafted%20Player%20Impact/NBA%20Drafted%20Player%20Impact.ipynb#X15sZmlsZQ%3D%3D?line=14'>15</a>\u001b[0m \u001b[39m#<td class=\"Crom_text__NpR1_ Crom_primary__EajZu\"><a href=\"/stats/team/1610612739/\" class=\"Anchor_anchor__cSc3P\" data-is-external=\"false\" data-has-more=\"false\" data-has-children=\"true\">Cleveland Cavaliers</a></td>\u001b[39;00m\n\u001b[0;32m     <a href='vscode-notebook-cell:/c%3A/Users/thops/OneDrive/Desktop/2023/github%20projects/NBA%20Drafted%20Player%20Impact/NBA%20Drafted%20Player%20Impact.ipynb#X15sZmlsZQ%3D%3D?line=15'>16</a>\u001b[0m \u001b[39m#<td class=\"Crom_text__NpR1_ Crom_primary__EajZu\"><a href=\"/stats/team/1610612754/\" class=\"Anchor_anchor__cSc3P\" data-is-external=\"false\" data-has-more=\"false\" data-has-children=\"true\">Indiana Pacers</a></td>\u001b[39;00m\n\u001b[0;32m     <a href='vscode-notebook-cell:/c%3A/Users/thops/OneDrive/Desktop/2023/github%20projects/NBA%20Drafted%20Player%20Impact/NBA%20Drafted%20Player%20Impact.ipynb#X15sZmlsZQ%3D%3D?line=16'>17</a>\u001b[0m \u001b[39m#<td class=\"Crom_text__NpR1_ Crom_primary__EajZu\"><a href=\"/stats/team/1610612747/\" class=\"Anchor_anchor__cSc3P\" data-is-external=\"false\" data-has-more=\"false\" data-has-children=\"true\">Los Angeles Lakers</a></td>\u001b[39;00m\n\u001b[1;32m   (...)\u001b[0m\n\u001b[0;32m     <a href='vscode-notebook-cell:/c%3A/Users/thops/OneDrive/Desktop/2023/github%20projects/NBA%20Drafted%20Player%20Impact/NBA%20Drafted%20Player%20Impact.ipynb#X15sZmlsZQ%3D%3D?line=20'>21</a>\u001b[0m \u001b[39m#round_picks\u001b[39;00m\n\u001b[0;32m     <a href='vscode-notebook-cell:/c%3A/Users/thops/OneDrive/Desktop/2023/github%20projects/NBA%20Drafted%20Player%20Impact/NBA%20Drafted%20Player%20Impact.ipynb#X15sZmlsZQ%3D%3D?line=21'>22</a>\u001b[0m \u001b[39m#overall_picks\u001b[39;00m\n\u001b[1;32m---> <a href='vscode-notebook-cell:/c%3A/Users/thops/OneDrive/Desktop/2023/github%20projects/NBA%20Drafted%20Player%20Impact/NBA%20Drafted%20Player%20Impact.ipynb#X15sZmlsZQ%3D%3D?line=23'>24</a>\u001b[0m file \u001b[39m=\u001b[39m \u001b[39mopen\u001b[39;49m(\u001b[39m\"\u001b[39;49m\u001b[39mscraped_nba_data.csv\u001b[39;49m\u001b[39m\"\u001b[39;49m, \u001b[39m\"\u001b[39;49m\u001b[39mw\u001b[39;49m\u001b[39m\"\u001b[39;49m)\n\u001b[0;32m     <a href='vscode-notebook-cell:/c%3A/Users/thops/OneDrive/Desktop/2023/github%20projects/NBA%20Drafted%20Player%20Impact/NBA%20Drafted%20Player%20Impact.ipynb#X15sZmlsZQ%3D%3D?line=24'>25</a>\u001b[0m writer \u001b[39m=\u001b[39m csv\u001b[39m.\u001b[39mwriter(file)\n\u001b[0;32m     <a href='vscode-notebook-cell:/c%3A/Users/thops/OneDrive/Desktop/2023/github%20projects/NBA%20Drafted%20Player%20Impact/NBA%20Drafted%20Player%20Impact.ipynb#X15sZmlsZQ%3D%3D?line=26'>27</a>\u001b[0m writer\u001b[39m.\u001b[39mwriterow([\u001b[39m\"\u001b[39m\u001b[39mPlayer\u001b[39m\u001b[39m\"\u001b[39m,\u001b[39m\"\u001b[39m\u001b[39mTeam\u001b[39m\u001b[39m\"\u001b[39m])\n",
      "File \u001b[1;32m~\\AppData\\Roaming\\Python\\Python311\\site-packages\\IPython\\core\\interactiveshell.py:284\u001b[0m, in \u001b[0;36m_modified_open\u001b[1;34m(file, *args, **kwargs)\u001b[0m\n\u001b[0;32m    277\u001b[0m \u001b[39mif\u001b[39;00m file \u001b[39min\u001b[39;00m {\u001b[39m0\u001b[39m, \u001b[39m1\u001b[39m, \u001b[39m2\u001b[39m}:\n\u001b[0;32m    278\u001b[0m     \u001b[39mraise\u001b[39;00m \u001b[39mValueError\u001b[39;00m(\n\u001b[0;32m    279\u001b[0m         \u001b[39mf\u001b[39m\u001b[39m\"\u001b[39m\u001b[39mIPython won\u001b[39m\u001b[39m'\u001b[39m\u001b[39mt let you open fd=\u001b[39m\u001b[39m{\u001b[39;00mfile\u001b[39m}\u001b[39;00m\u001b[39m by default \u001b[39m\u001b[39m\"\u001b[39m\n\u001b[0;32m    280\u001b[0m         \u001b[39m\"\u001b[39m\u001b[39mas it is likely to crash IPython. If you know what you are doing, \u001b[39m\u001b[39m\"\u001b[39m\n\u001b[0;32m    281\u001b[0m         \u001b[39m\"\u001b[39m\u001b[39myou can use builtins\u001b[39m\u001b[39m'\u001b[39m\u001b[39m open.\u001b[39m\u001b[39m\"\u001b[39m\n\u001b[0;32m    282\u001b[0m     )\n\u001b[1;32m--> 284\u001b[0m \u001b[39mreturn\u001b[39;00m io_open(file, \u001b[39m*\u001b[39;49margs, \u001b[39m*\u001b[39;49m\u001b[39m*\u001b[39;49mkwargs)\n",
      "\u001b[1;31mPermissionError\u001b[0m: [Errno 13] Permission denied: 'scraped_nba_data.csv'"
     ]
    }
   ],
   "source": [
    "import requests\n",
    "\n",
    "#url = \"https://www.nba.com/stats/teams\"\n",
    "url = \"https://www.nba.com/stats/draft/history?Season=2022\"\n",
    "\n",
    "page_to_scrape = requests.get(url)\n",
    "soup = BeautifulSoup(page_to_scrape.text,\"html.parser\")\n",
    "\n",
    "players = soup.findAll(\"td\", attrs={\"class\":\"Crom_text__NpR1_ Crom_sticky__uYvkp Crom_player__BuOU9\"}) # so the tag is \"td\" and the class attribute is \"Crom_text__NpR1_ Crom_sticky__uYvkp Crom_player__BuOU9\"\n",
    "#<td class=\"Crom_text__NpR1_ Crom_sticky__uYvkp Crom_player__BuOU9\"><a href=\"/stats/player/1631216/\" class=\"Anchor_anchor__cSc3P\" data-is-external=\"false\" data-has-more=\"false\" data-has-children=\"true\">Caleb Houstan</a></td>\n",
    "#<td class=\"Crom_text__NpR1_ Crom_sticky__uYvkp Crom_player__BuOU9\"><a href=\"/stats/player/1631107/\" class=\"Anchor_anchor__cSc3P\" data-is-external=\"false\" data-has-more=\"false\" data-has-children=\"true\">Nikola Jovic</a></td>\n",
    "#<td class=\"Crom_text__NpR1_ Crom_sticky__uYvkp Crom_player__BuOU9\"><a href=\"/stats/player/1631100/\" class=\"Anchor_anchor__cSc3P\" data-is-external=\"false\" data-has-more=\"false\" data-has-children=\"true\">AJ Griffin</a></td>\n",
    "\n",
    "teams = soup.findAll(\"a\", attrs={\"class\":\"Anchor_anchor__cSc3P\"})\n",
    "#<td class=\"Crom_text__NpR1_ Crom_primary__EajZu\"><a href=\"/stats/team/1610612739/\" class=\"Anchor_anchor__cSc3P\" data-is-external=\"false\" data-has-more=\"false\" data-has-children=\"true\">Cleveland Cavaliers</a></td>\n",
    "#<td class=\"Crom_text__NpR1_ Crom_primary__EajZu\"><a href=\"/stats/team/1610612754/\" class=\"Anchor_anchor__cSc3P\" data-is-external=\"false\" data-has-more=\"false\" data-has-children=\"true\">Indiana Pacers</a></td>\n",
    "#<td class=\"Crom_text__NpR1_ Crom_primary__EajZu\"><a href=\"/stats/team/1610612747/\" class=\"Anchor_anchor__cSc3P\" data-is-external=\"false\" data-has-more=\"false\" data-has-children=\"true\">Los Angeles Lakers</a></td>\n",
    "\n",
    "#affiliations\n",
    "#round_numbers\n",
    "#round_picks\n",
    "#overall_picks\n",
    "\n",
    "file = open(\"scraped_nba_data.csv\", \"w\")\n",
    "writer = csv.writer(file)\n",
    "\n",
    "writer.writerow([\"Player\",\"Team\"])\n",
    "\n",
    "for player, team in zip(players, teams):\n",
    "    print(player.text + \" - \" + team.text)\n",
    "    writer.writerow([player.text,team.text])\n",
    "\n",
    "file.close()"
   ]
  },
  {
   "cell_type": "markdown",
   "id": "ce7a3ba6-a3fe-4e0e-aa7d-da00b4159ef1",
   "metadata": {},
   "source": [
    "Lets try reading the table with beautiful soup."
   ]
  },
  {
   "cell_type": "code",
   "execution_count": null,
   "id": "d9e7096f-aafb-4592-a06d-c225d5d03e52",
   "metadata": {},
   "outputs": [],
   "source": [
    "!pip install requests"
   ]
  },
  {
   "cell_type": "code",
   "execution_count": null,
   "id": "1279de92-c689-4630-bcba-a418bbe6461b",
   "metadata": {},
   "outputs": [],
   "source": [
    "years = list(range(2000,2022))"
   ]
  },
  {
   "cell_type": "code",
   "execution_count": null,
   "id": "dcd2f900-f84f-4ad2-808b-3b3c8a46d458",
   "metadata": {},
   "outputs": [],
   "source": [
    "url_start = \"https://www.nba.com/stats/draft/history?Season={}\""
   ]
  },
  {
   "cell_type": "code",
   "execution_count": null,
   "id": "7e343aeb-f002-420b-b886-342af9c41609",
   "metadata": {},
   "outputs": [],
   "source": [
    "import requests\n",
    "\n",
    "for year in years:\n",
    "    url = url_start.format(year)\n",
    "    data = requests.get(url)\n",
    "    \n",
    "    with open(\"drafts/{}.html\".format(year), \"w+\") as f:\n",
    "        f.write(data.text)\n"
   ]
  },
  {
   "cell_type": "code",
   "execution_count": null,
   "id": "82f1011e-d2fb-45a8-b289-594bd7d82b38",
   "metadata": {},
   "outputs": [],
   "source": [
    "#The above method saves the websites, but without the actual data on drafted players and their teams"
   ]
  },
  {
   "cell_type": "code",
   "execution_count": null,
   "id": "c6304554-df15-42b6-8f41-2ec669e832f6",
   "metadata": {},
   "outputs": [],
   "source": [
    "import requests\n",
    "from bs4 import BeautifulSoup\n",
    "\n",
    "url = \"https://www.nba.com/stats/draft/history?Season=2021\"\n",
    "response = requests.get(url)\n",
    "soup = BeautifulSoup(response.content, \"html.parser\")\n",
    "table = soup.find(\"table\")\n",
    "rows = table.find_all(\"tr\")\n",
    "header = [th.text.strip() for th in rows[0].find_all(\"th\")]\n",
    "data = []\n",
    "for row in rows[1:]:\n",
    "    cells = [td.text.strip() for td in row.find_all(\"td\")]\n",
    "    data.append(dict(zip(header, cells)))\n"
   ]
  },
  {
   "cell_type": "markdown",
   "id": "73e020d8-fc3e-490a-a4c9-d934f894f0d4",
   "metadata": {},
   "source": [
    "Lets try pandas again, but with a different url."
   ]
  },
  {
   "cell_type": "code",
   "execution_count": null,
   "id": "7729af21-ed98-44b3-b651-959bc64ba04a",
   "metadata": {},
   "outputs": [],
   "source": [
    "import pandas as pd\n",
    "\n",
    "url = \"https://en.hispanosnba.com/nba/history/draft/seasons\" #this table gives top three picks for each year\n",
    "\n",
    "# Use pandas' `read_html` function to extract tables from the website\n",
    "tables = pd.read_html(url)\n",
    "\n",
    "# Select the desired table from the list of tables\n",
    "df1 = tables[0] #top picks from 2010 to 2022\n",
    "df2 = tables[1] #top picks from 2000 to 2009\n",
    "\n",
    "# Concatenate the two DataFrames vertically\n",
    "df = pd.concat([df1, df2], axis=0)\n",
    "\n",
    "# Reset the index\n",
    "df = df.reset_index(drop=True)\n",
    "\n",
    "# Show the first 5 rows of the dataframe\n",
    "print(df.shape)\n",
    "print(df.head())\n",
    "print(\". . .\")\n",
    "print(df.tail())"
   ]
  },
  {
   "cell_type": "code",
   "execution_count": null,
   "id": "9c476598-eb7b-4d7d-9176-107858ea12b3",
   "metadata": {},
   "outputs": [],
   "source": [
    "# Lets see if we can get more than the top 3 picks"
   ]
  },
  {
   "cell_type": "markdown",
   "id": "69acf803-32a2-45b9-8d21-b753ce69991f",
   "metadata": {},
   "source": [
    "## Team Data"
   ]
  },
  {
   "cell_type": "code",
   "execution_count": null,
   "id": "c66c035d-f0e6-47b5-9560-1ade6a60739b",
   "metadata": {},
   "outputs": [],
   "source": [
    "import requests\n",
    "\n",
    "year = list(range(2000,2023))\n",
    "\n",
    "url_start = \"https://www.basketball-reference.com/leagues/NBA_{}.html\"\n",
    "\n",
    "for year in years:\n",
    "    url = url_start.format(year)\n",
    "    data = requests.get(url)\n",
    "    \n",
    "    with open(\"teams/{}.html\".format(year), \"w+\") as f:\n",
    "        f.write(data.text)"
   ]
  },
  {
   "cell_type": "code",
   "execution_count": null,
   "id": "f8719cb2-5f5d-403d-b1d5-36e7d7c1c120",
   "metadata": {},
   "outputs": [],
   "source": [
    "# 2021/22 season is not included with the above."
   ]
  },
  {
   "cell_type": "code",
   "execution_count": 53,
   "id": "82714653-d3d8-46fd-ac1c-b30f7017ee8a",
   "metadata": {},
   "outputs": [
    {
     "name": "stdout",
     "output_type": "stream",
     "text": [
      "Requirement already satisfied: html5lib in /home/jupyterlab/conda/envs/python/lib/python3.7/site-packages (1.1)\n",
      "Requirement already satisfied: webencodings in /home/jupyterlab/conda/envs/python/lib/python3.7/site-packages (from html5lib) (0.5.1)\n",
      "Requirement already satisfied: six>=1.9 in /home/jupyterlab/conda/envs/python/lib/python3.7/site-packages (from html5lib) (1.16.0)\n",
      "Note: you may need to restart the kernel to use updated packages.\n"
     ]
    }
   ],
   "source": [
    "pip install html5lib"
   ]
  },
  {
   "cell_type": "code",
   "execution_count": 51,
   "id": "6fe4ecd8-9317-4890-968c-4d21f9fafe33",
   "metadata": {},
   "outputs": [
    {
     "name": "stdout",
     "output_type": "stream",
     "text": [
      "Requirement already satisfied: html5lib in /home/jupyterlab/conda/envs/python/lib/python3.7/site-packages (1.1)\n",
      "Requirement already satisfied: webencodings in /home/jupyterlab/conda/envs/python/lib/python3.7/site-packages (from html5lib) (0.5.1)\n",
      "Requirement already satisfied: six>=1.9 in /home/jupyterlab/conda/envs/python/lib/python3.7/site-packages (from html5lib) (1.16.0)\n"
     ]
    }
   ],
   "source": [
    "!pip install html5lib"
   ]
  },
  {
   "cell_type": "code",
   "execution_count": 54,
   "id": "d4a691bf-a56d-4d4e-b52a-abc73c645a8b",
   "metadata": {},
   "outputs": [
    {
     "ename": "ImportError",
     "evalue": "html5lib not found, please install it",
     "output_type": "error",
     "traceback": [
      "\u001b[0;31m---------------------------------------------------------------------------\u001b[0m",
      "\u001b[0;31mImportError\u001b[0m                               Traceback (most recent call last)",
      "\u001b[0;32m/tmp/ipykernel_366/577791118.py\u001b[0m in \u001b[0;36m<module>\u001b[0;34m\u001b[0m\n\u001b[1;32m      4\u001b[0m \u001b[0;34m\u001b[0m\u001b[0m\n\u001b[1;32m      5\u001b[0m \u001b[0;31m# Use pandas' `read_html` function to extract tables from the website\u001b[0m\u001b[0;34m\u001b[0m\u001b[0;34m\u001b[0m\u001b[0;34m\u001b[0m\u001b[0m\n\u001b[0;32m----> 6\u001b[0;31m \u001b[0mtables\u001b[0m \u001b[0;34m=\u001b[0m \u001b[0mpd\u001b[0m\u001b[0;34m.\u001b[0m\u001b[0mread_html\u001b[0m\u001b[0;34m(\u001b[0m\u001b[0murl\u001b[0m\u001b[0;34m)\u001b[0m\u001b[0;34m\u001b[0m\u001b[0;34m\u001b[0m\u001b[0m\n\u001b[0m\u001b[1;32m      7\u001b[0m \u001b[0;34m\u001b[0m\u001b[0m\n\u001b[1;32m      8\u001b[0m \u001b[0;31m# Select the desired table from the list of tables\u001b[0m\u001b[0;34m\u001b[0m\u001b[0;34m\u001b[0m\u001b[0;34m\u001b[0m\u001b[0m\n",
      "\u001b[0;32m~/conda/envs/python/lib/python3.7/site-packages/pandas/util/_decorators.py\u001b[0m in \u001b[0;36mwrapper\u001b[0;34m(*args, **kwargs)\u001b[0m\n\u001b[1;32m    309\u001b[0m                     \u001b[0mstacklevel\u001b[0m\u001b[0;34m=\u001b[0m\u001b[0mstacklevel\u001b[0m\u001b[0;34m,\u001b[0m\u001b[0;34m\u001b[0m\u001b[0;34m\u001b[0m\u001b[0m\n\u001b[1;32m    310\u001b[0m                 )\n\u001b[0;32m--> 311\u001b[0;31m             \u001b[0;32mreturn\u001b[0m \u001b[0mfunc\u001b[0m\u001b[0;34m(\u001b[0m\u001b[0;34m*\u001b[0m\u001b[0margs\u001b[0m\u001b[0;34m,\u001b[0m \u001b[0;34m**\u001b[0m\u001b[0mkwargs\u001b[0m\u001b[0;34m)\u001b[0m\u001b[0;34m\u001b[0m\u001b[0;34m\u001b[0m\u001b[0m\n\u001b[0m\u001b[1;32m    312\u001b[0m \u001b[0;34m\u001b[0m\u001b[0m\n\u001b[1;32m    313\u001b[0m         \u001b[0;32mreturn\u001b[0m \u001b[0mwrapper\u001b[0m\u001b[0;34m\u001b[0m\u001b[0;34m\u001b[0m\u001b[0m\n",
      "\u001b[0;32m~/conda/envs/python/lib/python3.7/site-packages/pandas/io/html.py\u001b[0m in \u001b[0;36mread_html\u001b[0;34m(io, match, flavor, header, index_col, skiprows, attrs, parse_dates, thousands, encoding, decimal, converters, na_values, keep_default_na, displayed_only)\u001b[0m\n\u001b[1;32m   1111\u001b[0m         \u001b[0mna_values\u001b[0m\u001b[0;34m=\u001b[0m\u001b[0mna_values\u001b[0m\u001b[0;34m,\u001b[0m\u001b[0;34m\u001b[0m\u001b[0;34m\u001b[0m\u001b[0m\n\u001b[1;32m   1112\u001b[0m         \u001b[0mkeep_default_na\u001b[0m\u001b[0;34m=\u001b[0m\u001b[0mkeep_default_na\u001b[0m\u001b[0;34m,\u001b[0m\u001b[0;34m\u001b[0m\u001b[0;34m\u001b[0m\u001b[0m\n\u001b[0;32m-> 1113\u001b[0;31m         \u001b[0mdisplayed_only\u001b[0m\u001b[0;34m=\u001b[0m\u001b[0mdisplayed_only\u001b[0m\u001b[0;34m,\u001b[0m\u001b[0;34m\u001b[0m\u001b[0;34m\u001b[0m\u001b[0m\n\u001b[0m\u001b[1;32m   1114\u001b[0m     )\n",
      "\u001b[0;32m~/conda/envs/python/lib/python3.7/site-packages/pandas/io/html.py\u001b[0m in \u001b[0;36m_parse\u001b[0;34m(flavor, io, match, attrs, encoding, displayed_only, **kwargs)\u001b[0m\n\u001b[1;32m    900\u001b[0m     \u001b[0mretained\u001b[0m \u001b[0;34m=\u001b[0m \u001b[0;32mNone\u001b[0m\u001b[0;34m\u001b[0m\u001b[0;34m\u001b[0m\u001b[0m\n\u001b[1;32m    901\u001b[0m     \u001b[0;32mfor\u001b[0m \u001b[0mflav\u001b[0m \u001b[0;32min\u001b[0m \u001b[0mflavor\u001b[0m\u001b[0;34m:\u001b[0m\u001b[0;34m\u001b[0m\u001b[0;34m\u001b[0m\u001b[0m\n\u001b[0;32m--> 902\u001b[0;31m         \u001b[0mparser\u001b[0m \u001b[0;34m=\u001b[0m \u001b[0m_parser_dispatch\u001b[0m\u001b[0;34m(\u001b[0m\u001b[0mflav\u001b[0m\u001b[0;34m)\u001b[0m\u001b[0;34m\u001b[0m\u001b[0;34m\u001b[0m\u001b[0m\n\u001b[0m\u001b[1;32m    903\u001b[0m         \u001b[0mp\u001b[0m \u001b[0;34m=\u001b[0m \u001b[0mparser\u001b[0m\u001b[0;34m(\u001b[0m\u001b[0mio\u001b[0m\u001b[0;34m,\u001b[0m \u001b[0mcompiled_match\u001b[0m\u001b[0;34m,\u001b[0m \u001b[0mattrs\u001b[0m\u001b[0;34m,\u001b[0m \u001b[0mencoding\u001b[0m\u001b[0;34m,\u001b[0m \u001b[0mdisplayed_only\u001b[0m\u001b[0;34m)\u001b[0m\u001b[0;34m\u001b[0m\u001b[0;34m\u001b[0m\u001b[0m\n\u001b[1;32m    904\u001b[0m \u001b[0;34m\u001b[0m\u001b[0m\n",
      "\u001b[0;32m~/conda/envs/python/lib/python3.7/site-packages/pandas/io/html.py\u001b[0m in \u001b[0;36m_parser_dispatch\u001b[0;34m(flavor)\u001b[0m\n\u001b[1;32m    849\u001b[0m     \u001b[0;32mif\u001b[0m \u001b[0mflavor\u001b[0m \u001b[0;32min\u001b[0m \u001b[0;34m(\u001b[0m\u001b[0;34m\"bs4\"\u001b[0m\u001b[0;34m,\u001b[0m \u001b[0;34m\"html5lib\"\u001b[0m\u001b[0;34m)\u001b[0m\u001b[0;34m:\u001b[0m\u001b[0;34m\u001b[0m\u001b[0;34m\u001b[0m\u001b[0m\n\u001b[1;32m    850\u001b[0m         \u001b[0;32mif\u001b[0m \u001b[0;32mnot\u001b[0m \u001b[0m_HAS_HTML5LIB\u001b[0m\u001b[0;34m:\u001b[0m\u001b[0;34m\u001b[0m\u001b[0;34m\u001b[0m\u001b[0m\n\u001b[0;32m--> 851\u001b[0;31m             \u001b[0;32mraise\u001b[0m \u001b[0mImportError\u001b[0m\u001b[0;34m(\u001b[0m\u001b[0;34m\"html5lib not found, please install it\"\u001b[0m\u001b[0;34m)\u001b[0m\u001b[0;34m\u001b[0m\u001b[0;34m\u001b[0m\u001b[0m\n\u001b[0m\u001b[1;32m    852\u001b[0m         \u001b[0;32mif\u001b[0m \u001b[0;32mnot\u001b[0m \u001b[0m_HAS_BS4\u001b[0m\u001b[0;34m:\u001b[0m\u001b[0;34m\u001b[0m\u001b[0;34m\u001b[0m\u001b[0m\n\u001b[1;32m    853\u001b[0m             \u001b[0;32mraise\u001b[0m \u001b[0mImportError\u001b[0m\u001b[0;34m(\u001b[0m\u001b[0;34m\"BeautifulSoup4 (bs4) not found, please install it\"\u001b[0m\u001b[0;34m)\u001b[0m\u001b[0;34m\u001b[0m\u001b[0;34m\u001b[0m\u001b[0m\n",
      "\u001b[0;31mImportError\u001b[0m: html5lib not found, please install it"
     ]
    }
   ],
   "source": [
    "import pandas as pd\n",
    "\n",
    "url = \"https://www.nba.com/standings?Season=2021-22\"\n",
    "\n",
    "# Use pandas' `read_html` function to extract tables from the website\n",
    "tables = pd.read_html(url)\n",
    "\n",
    "# Select the desired table from the list of tables\n",
    "standings = tables[0]\n",
    "\n",
    "# Show the first 5 rows of the dataframe\n",
    "print(standings.shape)\n",
    "print(standings.head())"
   ]
  },
  {
   "cell_type": "code",
   "execution_count": null,
   "id": "0996593f-ee67-48c8-8dff-bd57121ba2a0",
   "metadata": {},
   "outputs": [],
   "source": []
  },
  {
   "cell_type": "code",
   "execution_count": null,
   "id": "857229d8-53b1-4e66-9238-d79ab838372e",
   "metadata": {},
   "outputs": [],
   "source": []
  }
 ],
 "metadata": {
  "kernelspec": {
   "display_name": "Python 3",
   "language": "python",
   "name": "python3"
  },
  "language_info": {
   "codemirror_mode": {
    "name": "ipython",
    "version": 3
   },
   "file_extension": ".py",
   "mimetype": "text/x-python",
   "name": "python",
   "nbconvert_exporter": "python",
   "pygments_lexer": "ipython3",
   "version": "3.11.4"
  }
 },
 "nbformat": 4,
 "nbformat_minor": 5
}
